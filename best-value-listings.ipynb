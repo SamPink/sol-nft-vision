{
 "cells": [
  {
   "cell_type": "code",
   "execution_count": 35,
   "metadata": {},
   "outputs": [],
   "source": [
    "import pandas as pd\n",
    "import os"
   ]
  },
  {
   "cell_type": "code",
   "execution_count": 36,
   "metadata": {},
   "outputs": [],
   "source": [
    "listings = pd.read_csv(\"./data/okay_bear/listings.csv\")"
   ]
  },
  {
   "cell_type": "code",
   "execution_count": 37,
   "metadata": {},
   "outputs": [],
   "source": [
    "predicted = pd.read_csv(\"./data/okay_bear/predicted.csv\")"
   ]
  },
  {
   "cell_type": "code",
   "execution_count": 38,
   "metadata": {},
   "outputs": [],
   "source": [
    "#join the two dataframes on mint\n",
    "df = listings.merge(predicted, left_on=\"tokenMint\", right_on=\"mint\")"
   ]
  },
  {
   "cell_type": "code",
   "execution_count": 40,
   "metadata": {},
   "outputs": [
    {
     "data": {
      "text/plain": [
       "Unnamed: 0_x                                                                             0\n",
       "pdaAddress                                    5DEiaCyWA4JrpHAW9ALiLZfnZGKAwdjqqeu4h9EKCPp2\n",
       "auctionHouse                                  E8cU1WiRWjanGxmn96ewBgk9vPTcL6AEZ1t6F6fkgUWe\n",
       "tokenAddress                                  ChoBEJWs2Yimyaxrk2HaJBpKzBFun7fkN3WLFFt5ijfW\n",
       "tokenMint                                     2EkNCL3BhFhxwp87JHycn8R3Pftigd5JzUSDpX7kP4FK\n",
       "seller                                        47EzugXa2Hxx5sTUXhM4aK5v4wfyyCotDLTANH7wVjoB\n",
       "sellerReferral                                 autMW8SgBkVYeBgqYiTuJZnkvDZMVU2MHJh9Jh7CSQ2\n",
       "tokenSize                                                                                1\n",
       "price                                                                                349.0\n",
       "expiry                                                                                  -1\n",
       "rarity.howrare.rank                                                                 4421.0\n",
       "rarity.moonrank.rank                                                                  3695\n",
       "rarity.moonrank.absolute_rarity                                                        0.0\n",
       "rarity.moonrank.crawl.id                                                        okay_bears\n",
       "rarity.moonrank.crawl.first_mint_ts                                             1650996001\n",
       "rarity.moonrank.crawl.last_mint_ts                                              1651003401\n",
       "rarity.moonrank.crawl.first_mint              J4qzw3nMsgH6fKjLKHerUH6QiXH57xQCb9NA4qFQ7JbV\n",
       "rarity.moonrank.crawl.last_mint               3ENiEjh3u8LwBJEVpnTnwBpEMYN8J4cQwtFMMjgwAGUu\n",
       "rarity.moonrank.crawl.until_tx                                                         NaN\n",
       "rarity.moonrank.crawl.until_slot                                                         0\n",
       "rarity.moonrank.crawl.expected_pieces                                                10000\n",
       "rarity.moonrank.crawl.seen_pieces                                                    10000\n",
       "rarity.moonrank.crawl.last_crawl_id                                    1519048212869988400\n",
       "rarity.moonrank.crawl.complete                                                        True\n",
       "rarity.moonrank.crawl.blocked                                                        False\n",
       "rarity.moonrank.crawl.unblock_at_ts                                                      0\n",
       "extra.img                                https://bafybeie76clfcfh66hcgbcbjs2irasxah3txp...\n",
       "Unnamed: 0_y                                                                          3694\n",
       "name                                                                       Okay Bear #1533\n",
       "Background                                                                           White\n",
       "Clothes                                                                 Faded Denim Jacket\n",
       "Eyes                                                                           Golden Glow\n",
       "Eyewear                                                                                NaN\n",
       "Fur                                                                                   Pink\n",
       "Hat                                                                              Skate Cap\n",
       "Mouth                                                                                  Wry\n",
       "Background_rarity                                                                    12.65\n",
       "Clothes_rarity                                                                        1.93\n",
       "Eyes_rarity                                                                           1.99\n",
       "Eyewear_rarity                                                                       66.72\n",
       "Fur_rarity                                                                            4.26\n",
       "Hat_rarity                                                                            5.51\n",
       "Mouth_rarity                                                                          9.22\n",
       "mint                                          2EkNCL3BhFhxwp87JHycn8R3Pftigd5JzUSDpX7kP4FK\n",
       "rarity_rank                                                                           3695\n",
       "overall_rarity                                                                         0.0\n",
       "min_rarity                                                                            1.93\n",
       "mean_rarity                                                                      14.611429\n",
       "trait_n                                                                                  6\n",
       "pred_SOL                                                                         161.81042\n",
       "Name: 0, dtype: object"
      ]
     },
     "execution_count": 40,
     "metadata": {},
     "output_type": "execute_result"
    }
   ],
   "source": [
    "df.iloc[0]"
   ]
  },
  {
   "cell_type": "code",
   "execution_count": 29,
   "metadata": {},
   "outputs": [],
   "source": [
    "df_1 = df[['pred_SOL','price', 'name','rarity_rank','trait_n']]"
   ]
  },
  {
   "cell_type": "code",
   "execution_count": 30,
   "metadata": {},
   "outputs": [
    {
     "name": "stderr",
     "output_type": "stream",
     "text": [
      "/var/folders/05/dmkx5q1d5b73f0h3hs355b_80000gn/T/ipykernel_54612/3823334406.py:2: SettingWithCopyWarning: \n",
      "A value is trying to be set on a copy of a slice from a DataFrame.\n",
      "Try using .loc[row_indexer,col_indexer] = value instead\n",
      "\n",
      "See the caveats in the documentation: https://pandas.pydata.org/pandas-docs/stable/user_guide/indexing.html#returning-a-view-versus-a-copy\n",
      "  df_1['diff'] = df_1['pred_SOL'] - df_1['price']\n"
     ]
    }
   ],
   "source": [
    "#get difference between predicted and actual\n",
    "df_1['diff'] = df_1['pred_SOL'] - df_1['price']\n",
    "df['diff'] = df['pred_SOL'] - df['price']"
   ]
  },
  {
   "cell_type": "code",
   "execution_count": 31,
   "metadata": {},
   "outputs": [],
   "source": [
    "#order by difference\n",
    "df_1 = df_1.sort_values(by='diff', ascending=False)\n",
    "df = df.sort_values(by='diff', ascending=False)"
   ]
  },
  {
   "cell_type": "code",
   "execution_count": 34,
   "metadata": {},
   "outputs": [],
   "source": [
    "df.to_csv(\"./data/okay_bear/okay_bears_pred_diff.csv\")"
   ]
  },
  {
   "cell_type": "code",
   "execution_count": null,
   "metadata": {},
   "outputs": [],
   "source": []
  }
 ],
 "metadata": {
  "kernelspec": {
   "display_name": "Python 3.9.13 64-bit",
   "language": "python",
   "name": "python3"
  },
  "language_info": {
   "codemirror_mode": {
    "name": "ipython",
    "version": 3
   },
   "file_extension": ".py",
   "mimetype": "text/x-python",
   "name": "python",
   "nbconvert_exporter": "python",
   "pygments_lexer": "ipython3",
   "version": "3.9.13"
  },
  "orig_nbformat": 4,
  "vscode": {
   "interpreter": {
    "hash": "b0fa6594d8f4cbf19f97940f81e996739fb7646882a419484c72d19e05852a7e"
   }
  }
 },
 "nbformat": 4,
 "nbformat_minor": 2
}
