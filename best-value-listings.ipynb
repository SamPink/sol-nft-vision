{
 "cells": [
  {
   "cell_type": "code",
   "execution_count": 24,
   "metadata": {},
   "outputs": [],
   "source": [
    "import pandas as pd\n",
    "import os"
   ]
  },
  {
   "cell_type": "code",
   "execution_count": 25,
   "metadata": {},
   "outputs": [],
   "source": [
    "listings = pd.read_csv(\"./data/okay_bear/listings.csv\")"
   ]
  },
  {
   "cell_type": "code",
   "execution_count": 26,
   "metadata": {},
   "outputs": [],
   "source": [
    "predicted = pd.read_csv(\"./data/okay_bear/okay_bears_pred.csv\")"
   ]
  },
  {
   "cell_type": "code",
   "execution_count": 27,
   "metadata": {},
   "outputs": [],
   "source": [
    "#join the two dataframes on mint\n",
    "df = listings.merge(predicted, left_on=\"tokenMint\", right_on=\"mint\")"
   ]
  },
  {
   "cell_type": "code",
   "execution_count": 28,
   "metadata": {},
   "outputs": [
    {
     "data": {
      "text/plain": [
       "['Unnamed: 0_x',\n",
       " 'pdaAddress',\n",
       " 'auctionHouse',\n",
       " 'tokenAddress',\n",
       " 'tokenMint',\n",
       " 'seller',\n",
       " 'sellerReferral',\n",
       " 'tokenSize',\n",
       " 'price',\n",
       " 'expiry',\n",
       " 'rarity.howrare.rank',\n",
       " 'rarity.moonrank.rank',\n",
       " 'rarity.moonrank.absolute_rarity',\n",
       " 'rarity.moonrank.crawl.id',\n",
       " 'rarity.moonrank.crawl.first_mint_ts',\n",
       " 'rarity.moonrank.crawl.last_mint_ts',\n",
       " 'rarity.moonrank.crawl.first_mint',\n",
       " 'rarity.moonrank.crawl.last_mint',\n",
       " 'rarity.moonrank.crawl.until_tx',\n",
       " 'rarity.moonrank.crawl.until_slot',\n",
       " 'rarity.moonrank.crawl.expected_pieces',\n",
       " 'rarity.moonrank.crawl.seen_pieces',\n",
       " 'rarity.moonrank.crawl.last_crawl_id',\n",
       " 'rarity.moonrank.crawl.complete',\n",
       " 'rarity.moonrank.crawl.blocked',\n",
       " 'rarity.moonrank.crawl.unblock_at_ts',\n",
       " 'extra.img',\n",
       " 'Unnamed: 0_y',\n",
       " 'name',\n",
       " 'Background',\n",
       " 'Clothes',\n",
       " 'Eyes',\n",
       " 'Eyewear',\n",
       " 'Fur',\n",
       " 'Hat',\n",
       " 'Mouth',\n",
       " 'Background_rarity',\n",
       " 'Clothes_rarity',\n",
       " 'Eyes_rarity',\n",
       " 'Eyewear_rarity',\n",
       " 'Fur_rarity',\n",
       " 'Hat_rarity',\n",
       " 'Mouth_rarity',\n",
       " 'mint',\n",
       " 'rarity_rank',\n",
       " 'overall_rarity',\n",
       " 'min_rarity',\n",
       " 'mean_rarity',\n",
       " 'trait_n',\n",
       " 'pred_SOL']"
      ]
     },
     "execution_count": 28,
     "metadata": {},
     "output_type": "execute_result"
    }
   ],
   "source": [
    "df.columns.tolist()"
   ]
  },
  {
   "cell_type": "code",
   "execution_count": 29,
   "metadata": {},
   "outputs": [],
   "source": [
    "df_1 = df[['pred_SOL','price', 'name']]"
   ]
  },
  {
   "cell_type": "code",
   "execution_count": 30,
   "metadata": {},
   "outputs": [
    {
     "name": "stderr",
     "output_type": "stream",
     "text": [
      "/var/folders/05/dmkx5q1d5b73f0h3hs355b_80000gn/T/ipykernel_54612/3823334406.py:2: SettingWithCopyWarning: \n",
      "A value is trying to be set on a copy of a slice from a DataFrame.\n",
      "Try using .loc[row_indexer,col_indexer] = value instead\n",
      "\n",
      "See the caveats in the documentation: https://pandas.pydata.org/pandas-docs/stable/user_guide/indexing.html#returning-a-view-versus-a-copy\n",
      "  df_1['diff'] = df_1['pred_SOL'] - df_1['price']\n"
     ]
    }
   ],
   "source": [
    "#get difference between predicted and actual\n",
    "df_1['diff'] = df_1['pred_SOL'] - df_1['price']\n",
    "df['diff'] = df['pred_SOL'] - df['price']"
   ]
  },
  {
   "cell_type": "code",
   "execution_count": 31,
   "metadata": {},
   "outputs": [],
   "source": [
    "#order by difference\n",
    "df_1 = df_1.sort_values(by='diff', ascending=False)\n",
    "df = df.sort_values(by='diff', ascending=False)"
   ]
  },
  {
   "cell_type": "code",
   "execution_count": 34,
   "metadata": {},
   "outputs": [],
   "source": [
    "df.to_csv(\"./data/okay_bear/okay_bears_pred_diff.csv\")"
   ]
  },
  {
   "cell_type": "code",
   "execution_count": null,
   "metadata": {},
   "outputs": [],
   "source": []
  }
 ],
 "metadata": {
  "kernelspec": {
   "display_name": "Python 3.9.13 64-bit",
   "language": "python",
   "name": "python3"
  },
  "language_info": {
   "codemirror_mode": {
    "name": "ipython",
    "version": 3
   },
   "file_extension": ".py",
   "mimetype": "text/x-python",
   "name": "python",
   "nbconvert_exporter": "python",
   "pygments_lexer": "ipython3",
   "version": "3.9.13"
  },
  "orig_nbformat": 4,
  "vscode": {
   "interpreter": {
    "hash": "b0fa6594d8f4cbf19f97940f81e996739fb7646882a419484c72d19e05852a7e"
   }
  }
 },
 "nbformat": 4,
 "nbformat_minor": 2
}
