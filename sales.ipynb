{
 "cells": [
  {
   "cell_type": "code",
   "execution_count": 3,
   "metadata": {},
   "outputs": [],
   "source": [
    "import requests\n",
    "import pandas as pd\n",
    "import time\n",
    "import json"
   ]
  },
  {
   "cell_type": "code",
   "execution_count": 2,
   "metadata": {},
   "outputs": [],
   "source": [
    "def make_request(collectionid, page=1):\n",
    "    url = f\"https://api.solscan.io/collection/nft?sortBy=nameDec&collectionId=12f5732ce6ca33cbe4091cefbebf93543245e0278b4a557e5204e3d76287b289&offset={page}&limit=50\"\n",
    "\n",
    "\n",
    "    response = requests.request(\"GET\", url)\n",
    "\n",
    "    if response.status_code == 200:\n",
    "        return response.json()\n",
    "    if response.status_code == 429:\n",
    "        print(\"Rate limit exceeded. Waiting for 60 seconds.\")\n",
    "        time.sleep(60)\n",
    "        return make_request(collectionid, page)\n",
    "    print(\"Error:\", response.status_code)\n",
    "    raise Exception(\"Error:\", response.status_code)"
   ]
  },
  {
   "cell_type": "code",
   "execution_count": 3,
   "metadata": {},
   "outputs": [
    {
     "name": "stdout",
     "output_type": "stream",
     "text": [
      "Rate limit exceeded. Waiting for 60 seconds.\n",
      "Rate limit exceeded. Waiting for 60 seconds.\n",
      "Rate limit exceeded. Waiting for 60 seconds.\n",
      "Rate limit exceeded. Waiting for 60 seconds.\n",
      "Rate limit exceeded. Waiting for 60 seconds.\n",
      "Rate limit exceeded. Waiting for 60 seconds.\n",
      "Rate limit exceeded. Waiting for 60 seconds.\n",
      "Rate limit exceeded. Waiting for 60 seconds.\n"
     ]
    }
   ],
   "source": [
    "okay_bears = \"12f5732ce6ca33cbe4091cefbebf93543245e0278b4a557e5204e3d76287b289\"\n",
    "page_num = 1\n",
    "search = True\n",
    "all_trades = []\n",
    "while search:\n",
    "    try:\n",
    "        sales_page = make_request(collectionid=okay_bears, page=page_num)\n",
    "        \n",
    "        all_trades.extend(sales_page[\"data\"])\n",
    "        \n",
    "        page_num += 1\n",
    "    except Exception as e:\n",
    "        print(e)\n",
    "        search = False\n",
    "    \n",
    "    #limit to 100 calls\n",
    "    if page_num == 300:\n",
    "        search = False"
   ]
  },
  {
   "cell_type": "code",
   "execution_count": 4,
   "metadata": {},
   "outputs": [],
   "source": [
    "#f = open('all_trades.json')\n",
    "#all_trades = json.load(f)"
   ]
  },
  {
   "cell_type": "code",
   "execution_count": 19,
   "metadata": {},
   "outputs": [],
   "source": [
    "transactions = pd.DataFrame()\n",
    "for trade in all_trades:\n",
    "    df = pd.DataFrame(trade['trade'], index=[0])\n",
    "    df['name'] = trade[\"info\"][\"meta\"][\"name\"]\n",
    "    transactions = transactions.append(df, ignore_index=True)\n"
   ]
  },
  {
   "cell_type": "code",
   "execution_count": 6,
   "metadata": {},
   "outputs": [],
   "source": [
    "#write all_trades to json file\n",
    "with open('all_trades.json', 'w') as outfile:\n",
    "    json.dump(all_trades, outfile)\n"
   ]
  },
  {
   "cell_type": "code",
   "execution_count": 21,
   "metadata": {},
   "outputs": [],
   "source": [
    "transactions.to_csv('transactions.csv')"
   ]
  }
 ],
 "metadata": {
  "interpreter": {
   "hash": "631af46dfe2aa06b02954c5167e64b1b30970221264e4bda1b15943a0af226c8"
  },
  "kernelspec": {
   "display_name": "Python 3.9.7 ('base')",
   "language": "python",
   "name": "python3"
  },
  "language_info": {
   "codemirror_mode": {
    "name": "ipython",
    "version": 3
   },
   "file_extension": ".py",
   "mimetype": "text/x-python",
   "name": "python",
   "nbconvert_exporter": "python",
   "pygments_lexer": "ipython3",
   "version": "3.9.7"
  },
  "orig_nbformat": 4
 },
 "nbformat": 4,
 "nbformat_minor": 2
}
