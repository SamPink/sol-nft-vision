{
 "cells": [
  {
   "cell_type": "code",
   "execution_count": 38,
   "metadata": {},
   "outputs": [],
   "source": [
    "import requests\n",
    "import pandas as pd\n",
    "import time\n",
    "import json\n",
    "import os"
   ]
  },
  {
   "cell_type": "code",
   "execution_count": 39,
   "metadata": {},
   "outputs": [],
   "source": [
    "def make_request(collectionid, page=1):\n",
    "    url = f\"https://api.solscan.io/collection/nft?sortBy=nameDec&collectionId={collectionid}&offset={page}&limit=50\"\n",
    "\n",
    "    response = requests.request(\"GET\", url)\n",
    "\n",
    "    if response.status_code == 200:\n",
    "        return response.json()\n",
    "    if response.status_code == 429:\n",
    "        print(\"Rate limit exceeded. Waiting for 60 seconds.\")\n",
    "        time.sleep(60)\n",
    "        return make_request(collectionid, page)\n",
    "    print(\"Error:\", response.status_code)\n",
    "    raise Exception(\"Error:\", response.status_code)\n"
   ]
  },
  {
   "cell_type": "code",
   "execution_count": 60,
   "metadata": {},
   "outputs": [],
   "source": [
    "slug_name = \"solana_monkey_business\"\n",
    "contract = \"TokenkegQfeZyiNwAJbNbGKPFXCWuBvf9Ss623VQ5DA\"\n",
    "\n",
    "#make folder for slug in data if not exists\n",
    "if not os.path.exists(f\"data/{slug_name}\"):\n",
    "    os.makedirs(f\"data/{slug_name}\")"
   ]
  },
  {
   "cell_type": "code",
   "execution_count": 41,
   "metadata": {},
   "outputs": [
    {
     "name": "stdout",
     "output_type": "stream",
     "text": [
      "Rate limit exceeded. Waiting for 60 seconds.\n",
      "Rate limit exceeded. Waiting for 60 seconds.\n",
      "Rate limit exceeded. Waiting for 60 seconds.\n",
      "Rate limit exceeded. Waiting for 60 seconds.\n",
      "Rate limit exceeded. Waiting for 60 seconds.\n",
      "Rate limit exceeded. Waiting for 60 seconds.\n",
      "Rate limit exceeded. Waiting for 60 seconds.\n",
      "Rate limit exceeded. Waiting for 60 seconds.\n",
      "Rate limit exceeded. Waiting for 60 seconds.\n",
      "Rate limit exceeded. Waiting for 60 seconds.\n"
     ]
    }
   ],
   "source": [
    "\n",
    "#okay_bears = \"12f5732ce6ca33cbe4091cefbebf93543245e0278b4a557e5204e3d76287b289\"\n",
    "page_num = 1\n",
    "search = True\n",
    "all_trades = []\n",
    "while search:\n",
    "    try:\n",
    "        sales_page = make_request(collectionid=contract, page=page_num)\n",
    "\n",
    "        all_trades.extend(sales_page[\"data\"])\n",
    "\n",
    "        page_num += 1\n",
    "    except Exception as e:\n",
    "        print(e)\n",
    "        search = False\n",
    "\n",
    "    # limit to 100 calls\n",
    "    if page_num == 300:\n",
    "        search = False\n"
   ]
  },
  {
   "cell_type": "code",
   "execution_count": 65,
   "metadata": {},
   "outputs": [
    {
     "data": {
      "text/plain": [
       "{'success': True, 'data': []}"
      ]
     },
     "execution_count": 65,
     "metadata": {},
     "output_type": "execute_result"
    }
   ],
   "source": [
    "make_request(collectionid=\"9uBX3ASjxWvNBAD1xjbVaKA74mWGZys3RGSF7DdeDD3F\", page=1)"
   ]
  },
  {
   "cell_type": "code",
   "execution_count": 43,
   "metadata": {},
   "outputs": [],
   "source": [
    "# f = open('all_trades.json')\n",
    "# all_trades = json.load(f)\n"
   ]
  },
  {
   "cell_type": "code",
   "execution_count": 44,
   "metadata": {},
   "outputs": [],
   "source": [
    "transactions = pd.DataFrame()\n",
    "for trade in all_trades:\n",
    "    df = pd.DataFrame(trade[\"trade\"], index=[0])\n",
    "    df[\"name\"] = trade[\"info\"][\"meta\"][\"name\"]\n",
    "    transactions = transactions.append(df, ignore_index=True)\n"
   ]
  },
  {
   "cell_type": "code",
   "execution_count": 49,
   "metadata": {},
   "outputs": [],
   "source": [
    "# write all_trades to json file\n",
    "with open(f\"data/{slug_name}/all_trades.json\", \"w\") as outfile:\n",
    "    json.dump(all_trades, outfile)\n"
   ]
  },
  {
   "cell_type": "code",
   "execution_count": 46,
   "metadata": {},
   "outputs": [],
   "source": [
    "#transactions.to_csv(\"transactions.csv\")\n"
   ]
  },
  {
   "cell_type": "code",
   "execution_count": 52,
   "metadata": {},
   "outputs": [
    {
     "data": {
      "text/plain": [
       "[]"
      ]
     },
     "execution_count": 52,
     "metadata": {},
     "output_type": "execute_result"
    }
   ],
   "source": [
    "all_trades"
   ]
  },
  {
   "cell_type": "code",
   "execution_count": 51,
   "metadata": {},
   "outputs": [
    {
     "data": {
      "text/html": [
       "<div>\n",
       "<style scoped>\n",
       "    .dataframe tbody tr th:only-of-type {\n",
       "        vertical-align: middle;\n",
       "    }\n",
       "\n",
       "    .dataframe tbody tr th {\n",
       "        vertical-align: top;\n",
       "    }\n",
       "\n",
       "    .dataframe thead th {\n",
       "        text-align: right;\n",
       "    }\n",
       "</style>\n",
       "<table border=\"1\" class=\"dataframe\">\n",
       "  <thead>\n",
       "    <tr style=\"text-align: right;\">\n",
       "      <th></th>\n",
       "    </tr>\n",
       "  </thead>\n",
       "  <tbody>\n",
       "  </tbody>\n",
       "</table>\n",
       "</div>"
      ],
      "text/plain": [
       "Empty DataFrame\n",
       "Columns: []\n",
       "Index: []"
      ]
     },
     "execution_count": 51,
     "metadata": {},
     "output_type": "execute_result"
    }
   ],
   "source": [
    "transactions"
   ]
  },
  {
   "cell_type": "code",
   "execution_count": null,
   "metadata": {},
   "outputs": [],
   "source": []
  }
 ],
 "metadata": {
  "interpreter": {
   "hash": "631af46dfe2aa06b02954c5167e64b1b30970221264e4bda1b15943a0af226c8"
  },
  "kernelspec": {
   "display_name": "Python 3.9.7 ('base')",
   "language": "python",
   "name": "python3"
  },
  "language_info": {
   "codemirror_mode": {
    "name": "ipython",
    "version": 3
   },
   "file_extension": ".py",
   "mimetype": "text/x-python",
   "name": "python",
   "nbconvert_exporter": "python",
   "pygments_lexer": "ipython3",
   "version": "3.9.7"
  },
  "orig_nbformat": 4
 },
 "nbformat": 4,
 "nbformat_minor": 2
}
