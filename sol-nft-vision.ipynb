{
 "cells": [
  {
   "cell_type": "code",
   "execution_count": 62,
   "metadata": {},
   "outputs": [],
   "source": [
    "#!npx degit metaplex-foundation/python-api/metaplex metaplex\n"
   ]
  },
  {
   "cell_type": "code",
   "execution_count": 63,
   "metadata": {},
   "outputs": [],
   "source": [
    "import requests\n",
    "from metaplex import metadata\n",
    "from solana.rpc.api import Client\n",
    "import json\n",
    "import pandas as pd\n"
   ]
  },
  {
   "cell_type": "code",
   "execution_count": 64,
   "metadata": {},
   "outputs": [],
   "source": [
    "client = Client(\"http://api.mainnet-beta.solana.com\")\n"
   ]
  },
  {
   "cell_type": "code",
   "execution_count": 65,
   "metadata": {},
   "outputs": [],
   "source": [
    "def get_atts(mint_id):\n",
    "    data = metadata.get_metadata(client, mint_id)[\"data\"]\n",
    "    res = requests.get(data[\"uri\"])\n",
    "    return res.json()[\"attributes\"]\n"
   ]
  },
  {
   "cell_type": "code",
   "execution_count": 66,
   "metadata": {},
   "outputs": [],
   "source": [
    "# read degenape.json\n",
    "with open(\"degenape.json\") as f:\n",
    "    degenape = json.load(f)\n"
   ]
  },
  {
   "cell_type": "code",
   "execution_count": 69,
   "metadata": {},
   "outputs": [],
   "source": [
    "# get the top 100 nft's from the degenape.json\n",
    "top_100_nft_traits = [get_atts(nft) for nft in degenape[:100]]\n"
   ]
  },
  {
   "cell_type": "code",
   "execution_count": 82,
   "metadata": {},
   "outputs": [],
   "source": [
    "# create a dataframe of the top 100 nft's traits\n",
    "df_all = pd.DataFrame()\n",
    "for nft in top_100_nft_traits:\n",
    "    df_1 = pd.DataFrame(nft)\n",
    "    # add a column for the nft id\n",
    "    index = top_100_nft_traits.index(nft)\n",
    "    df_1[\"nft_id\"] = degenape[index]\n",
    "    # pivot the dataframe on the trait name\n",
    "    df_1 = df_1.pivot(index=\"nft_id\", columns=\"trait_type\", values=\"value\")\n",
    "\n",
    "    df_all = df_all.append(df_1)\n"
   ]
  },
  {
   "cell_type": "code",
   "execution_count": 128,
   "metadata": {},
   "outputs": [],
   "source": [
    "assets_traits = df_all.copy()\n"
   ]
  },
  {
   "cell_type": "code",
   "execution_count": 129,
   "metadata": {},
   "outputs": [],
   "source": [
    "traits = df_all.columns.tolist()\n"
   ]
  },
  {
   "cell_type": "code",
   "execution_count": 130,
   "metadata": {},
   "outputs": [],
   "source": [
    "for trait in traits:\n",
    "    i_proportion = df_all[trait].value_counts(dropna=False, normalize=True)\n",
    "    \n",
    "    assets_traits = assets_traits.merge(\n",
    "            i_proportion,\n",
    "            left_on=trait,\n",
    "            right_index=True,\n",
    "            suffixes=(\"\", \"_rarity\"),\n",
    "            how=\"left\",\n",
    "        )\n"
   ]
  },
  {
   "cell_type": "code",
   "execution_count": 134,
   "metadata": {},
   "outputs": [
    {
     "data": {
      "text/plain": [
       "Index(['Background', 'Cloths', 'EyesWear', 'HeadWear', 'Mouth', 'Skin',\n",
       "       'Background_rarity', 'Cloths_rarity', 'EyesWear_rarity',\n",
       "       'HeadWear_rarity', 'Mouth_rarity', 'Skin_rarity'],\n",
       "      dtype='object')"
      ]
     },
     "execution_count": 134,
     "metadata": {},
     "output_type": "execute_result"
    }
   ],
   "source": [
    "assets_traits.columns"
   ]
  },
  {
   "cell_type": "code",
   "execution_count": 135,
   "metadata": {},
   "outputs": [],
   "source": [
    "rarity_list = assets_traits.columns.tolist()\n",
    "#only include the rarity columns '_rarity'\n",
    "rarity_list = [col for col in rarity_list if col.endswith(\"_rarity\")]"
   ]
  },
  {
   "cell_type": "code",
   "execution_count": 136,
   "metadata": {},
   "outputs": [
    {
     "data": {
      "text/plain": [
       "['Background_rarity',\n",
       " 'Cloths_rarity',\n",
       " 'EyesWear_rarity',\n",
       " 'HeadWear_rarity',\n",
       " 'Mouth_rarity',\n",
       " 'Skin_rarity']"
      ]
     },
     "execution_count": 136,
     "metadata": {},
     "output_type": "execute_result"
    }
   ],
   "source": [
    "rarity_list"
   ]
  },
  {
   "cell_type": "code",
   "execution_count": 137,
   "metadata": {},
   "outputs": [
    {
     "data": {
      "text/html": [
       "<div>\n",
       "<style scoped>\n",
       "    .dataframe tbody tr th:only-of-type {\n",
       "        vertical-align: middle;\n",
       "    }\n",
       "\n",
       "    .dataframe tbody tr th {\n",
       "        vertical-align: top;\n",
       "    }\n",
       "\n",
       "    .dataframe thead th {\n",
       "        text-align: right;\n",
       "    }\n",
       "</style>\n",
       "<table border=\"1\" class=\"dataframe\">\n",
       "  <thead>\n",
       "    <tr style=\"text-align: right;\">\n",
       "      <th></th>\n",
       "      <th>Background_rarity</th>\n",
       "      <th>Cloths_rarity</th>\n",
       "      <th>EyesWear_rarity</th>\n",
       "      <th>HeadWear_rarity</th>\n",
       "      <th>Mouth_rarity</th>\n",
       "      <th>Skin_rarity</th>\n",
       "    </tr>\n",
       "    <tr>\n",
       "      <th>nft_id</th>\n",
       "      <th></th>\n",
       "      <th></th>\n",
       "      <th></th>\n",
       "      <th></th>\n",
       "      <th></th>\n",
       "      <th></th>\n",
       "    </tr>\n",
       "  </thead>\n",
       "  <tbody>\n",
       "    <tr>\n",
       "      <th>2caeyTFigCYWtRVbYqenEJxUasBgwE7AFA7i5pgruew8</th>\n",
       "      <td>0.19</td>\n",
       "      <td>0.06</td>\n",
       "      <td>0.08</td>\n",
       "      <td>0.07</td>\n",
       "      <td>0.09</td>\n",
       "      <td>0.14</td>\n",
       "    </tr>\n",
       "    <tr>\n",
       "      <th>34pPEH6QMY6fxCLtmCXdVVGk6GeZwfgfE3VutqqeYnTZ</th>\n",
       "      <td>0.19</td>\n",
       "      <td>0.06</td>\n",
       "      <td>0.10</td>\n",
       "      <td>0.04</td>\n",
       "      <td>0.10</td>\n",
       "      <td>0.07</td>\n",
       "    </tr>\n",
       "    <tr>\n",
       "      <th>DuKd3FyLPVjmZJ1esowYCoVj2mgVVDFdWudkX1mgMZJ7</th>\n",
       "      <td>0.13</td>\n",
       "      <td>0.06</td>\n",
       "      <td>0.05</td>\n",
       "      <td>0.11</td>\n",
       "      <td>0.09</td>\n",
       "      <td>0.06</td>\n",
       "    </tr>\n",
       "    <tr>\n",
       "      <th>245ZP737DDFiU3FhDwnsHndv7s1vLyHsfDpdSuHsVQg2</th>\n",
       "      <td>0.16</td>\n",
       "      <td>0.06</td>\n",
       "      <td>0.06</td>\n",
       "      <td>0.03</td>\n",
       "      <td>0.14</td>\n",
       "      <td>0.14</td>\n",
       "    </tr>\n",
       "    <tr>\n",
       "      <th>CxaNXWrY6LMEtMk7b4iTtqUZmLMt8mPLXK6acp14oq5Q</th>\n",
       "      <td>0.13</td>\n",
       "      <td>0.12</td>\n",
       "      <td>0.09</td>\n",
       "      <td>0.08</td>\n",
       "      <td>0.19</td>\n",
       "      <td>0.06</td>\n",
       "    </tr>\n",
       "    <tr>\n",
       "      <th>...</th>\n",
       "      <td>...</td>\n",
       "      <td>...</td>\n",
       "      <td>...</td>\n",
       "      <td>...</td>\n",
       "      <td>...</td>\n",
       "      <td>...</td>\n",
       "    </tr>\n",
       "    <tr>\n",
       "      <th>D6N2QjDbp1f6wiFXY8jFmQBFtcWJrycgZrVKD94LMeWe</th>\n",
       "      <td>0.24</td>\n",
       "      <td>0.06</td>\n",
       "      <td>0.05</td>\n",
       "      <td>0.04</td>\n",
       "      <td>0.11</td>\n",
       "      <td>0.06</td>\n",
       "    </tr>\n",
       "    <tr>\n",
       "      <th>GmPUmEP6ENaPNn6FrazF2jL8tMZd8QGJ7MdsDwnbjkBd</th>\n",
       "      <td>0.13</td>\n",
       "      <td>0.04</td>\n",
       "      <td>0.08</td>\n",
       "      <td>0.07</td>\n",
       "      <td>0.09</td>\n",
       "      <td>0.04</td>\n",
       "    </tr>\n",
       "    <tr>\n",
       "      <th>HxoB2y45afTeEWEsqAXqqm2vgRSmaDLuhLdn37ddWs6j</th>\n",
       "      <td>0.24</td>\n",
       "      <td>0.06</td>\n",
       "      <td>0.10</td>\n",
       "      <td>0.11</td>\n",
       "      <td>0.15</td>\n",
       "      <td>0.05</td>\n",
       "    </tr>\n",
       "    <tr>\n",
       "      <th>EwSCJZNbzSMeWtJUbpv9HvGCfMEmcuwuPF4TKqXT2VGV</th>\n",
       "      <td>0.09</td>\n",
       "      <td>0.04</td>\n",
       "      <td>0.05</td>\n",
       "      <td>0.04</td>\n",
       "      <td>0.15</td>\n",
       "      <td>0.06</td>\n",
       "    </tr>\n",
       "    <tr>\n",
       "      <th>CWvDwaSodwoDhztsLZpMVmXTgeMzPpNWoiX5DCxHVvaY</th>\n",
       "      <td>0.13</td>\n",
       "      <td>0.02</td>\n",
       "      <td>0.07</td>\n",
       "      <td>0.02</td>\n",
       "      <td>0.11</td>\n",
       "      <td>0.14</td>\n",
       "    </tr>\n",
       "  </tbody>\n",
       "</table>\n",
       "<p>100 rows × 6 columns</p>\n",
       "</div>"
      ],
      "text/plain": [
       "                                              Background_rarity  \\\n",
       "nft_id                                                            \n",
       "2caeyTFigCYWtRVbYqenEJxUasBgwE7AFA7i5pgruew8               0.19   \n",
       "34pPEH6QMY6fxCLtmCXdVVGk6GeZwfgfE3VutqqeYnTZ               0.19   \n",
       "DuKd3FyLPVjmZJ1esowYCoVj2mgVVDFdWudkX1mgMZJ7               0.13   \n",
       "245ZP737DDFiU3FhDwnsHndv7s1vLyHsfDpdSuHsVQg2               0.16   \n",
       "CxaNXWrY6LMEtMk7b4iTtqUZmLMt8mPLXK6acp14oq5Q               0.13   \n",
       "...                                                         ...   \n",
       "D6N2QjDbp1f6wiFXY8jFmQBFtcWJrycgZrVKD94LMeWe               0.24   \n",
       "GmPUmEP6ENaPNn6FrazF2jL8tMZd8QGJ7MdsDwnbjkBd               0.13   \n",
       "HxoB2y45afTeEWEsqAXqqm2vgRSmaDLuhLdn37ddWs6j               0.24   \n",
       "EwSCJZNbzSMeWtJUbpv9HvGCfMEmcuwuPF4TKqXT2VGV               0.09   \n",
       "CWvDwaSodwoDhztsLZpMVmXTgeMzPpNWoiX5DCxHVvaY               0.13   \n",
       "\n",
       "                                              Cloths_rarity  EyesWear_rarity  \\\n",
       "nft_id                                                                         \n",
       "2caeyTFigCYWtRVbYqenEJxUasBgwE7AFA7i5pgruew8           0.06             0.08   \n",
       "34pPEH6QMY6fxCLtmCXdVVGk6GeZwfgfE3VutqqeYnTZ           0.06             0.10   \n",
       "DuKd3FyLPVjmZJ1esowYCoVj2mgVVDFdWudkX1mgMZJ7           0.06             0.05   \n",
       "245ZP737DDFiU3FhDwnsHndv7s1vLyHsfDpdSuHsVQg2           0.06             0.06   \n",
       "CxaNXWrY6LMEtMk7b4iTtqUZmLMt8mPLXK6acp14oq5Q           0.12             0.09   \n",
       "...                                                     ...              ...   \n",
       "D6N2QjDbp1f6wiFXY8jFmQBFtcWJrycgZrVKD94LMeWe           0.06             0.05   \n",
       "GmPUmEP6ENaPNn6FrazF2jL8tMZd8QGJ7MdsDwnbjkBd           0.04             0.08   \n",
       "HxoB2y45afTeEWEsqAXqqm2vgRSmaDLuhLdn37ddWs6j           0.06             0.10   \n",
       "EwSCJZNbzSMeWtJUbpv9HvGCfMEmcuwuPF4TKqXT2VGV           0.04             0.05   \n",
       "CWvDwaSodwoDhztsLZpMVmXTgeMzPpNWoiX5DCxHVvaY           0.02             0.07   \n",
       "\n",
       "                                              HeadWear_rarity  Mouth_rarity  \\\n",
       "nft_id                                                                        \n",
       "2caeyTFigCYWtRVbYqenEJxUasBgwE7AFA7i5pgruew8             0.07          0.09   \n",
       "34pPEH6QMY6fxCLtmCXdVVGk6GeZwfgfE3VutqqeYnTZ             0.04          0.10   \n",
       "DuKd3FyLPVjmZJ1esowYCoVj2mgVVDFdWudkX1mgMZJ7             0.11          0.09   \n",
       "245ZP737DDFiU3FhDwnsHndv7s1vLyHsfDpdSuHsVQg2             0.03          0.14   \n",
       "CxaNXWrY6LMEtMk7b4iTtqUZmLMt8mPLXK6acp14oq5Q             0.08          0.19   \n",
       "...                                                       ...           ...   \n",
       "D6N2QjDbp1f6wiFXY8jFmQBFtcWJrycgZrVKD94LMeWe             0.04          0.11   \n",
       "GmPUmEP6ENaPNn6FrazF2jL8tMZd8QGJ7MdsDwnbjkBd             0.07          0.09   \n",
       "HxoB2y45afTeEWEsqAXqqm2vgRSmaDLuhLdn37ddWs6j             0.11          0.15   \n",
       "EwSCJZNbzSMeWtJUbpv9HvGCfMEmcuwuPF4TKqXT2VGV             0.04          0.15   \n",
       "CWvDwaSodwoDhztsLZpMVmXTgeMzPpNWoiX5DCxHVvaY             0.02          0.11   \n",
       "\n",
       "                                              Skin_rarity  \n",
       "nft_id                                                     \n",
       "2caeyTFigCYWtRVbYqenEJxUasBgwE7AFA7i5pgruew8         0.14  \n",
       "34pPEH6QMY6fxCLtmCXdVVGk6GeZwfgfE3VutqqeYnTZ         0.07  \n",
       "DuKd3FyLPVjmZJ1esowYCoVj2mgVVDFdWudkX1mgMZJ7         0.06  \n",
       "245ZP737DDFiU3FhDwnsHndv7s1vLyHsfDpdSuHsVQg2         0.14  \n",
       "CxaNXWrY6LMEtMk7b4iTtqUZmLMt8mPLXK6acp14oq5Q         0.06  \n",
       "...                                                   ...  \n",
       "D6N2QjDbp1f6wiFXY8jFmQBFtcWJrycgZrVKD94LMeWe         0.06  \n",
       "GmPUmEP6ENaPNn6FrazF2jL8tMZd8QGJ7MdsDwnbjkBd         0.04  \n",
       "HxoB2y45afTeEWEsqAXqqm2vgRSmaDLuhLdn37ddWs6j         0.05  \n",
       "EwSCJZNbzSMeWtJUbpv9HvGCfMEmcuwuPF4TKqXT2VGV         0.06  \n",
       "CWvDwaSodwoDhztsLZpMVmXTgeMzPpNWoiX5DCxHVvaY         0.14  \n",
       "\n",
       "[100 rows x 6 columns]"
      ]
     },
     "execution_count": 137,
     "metadata": {},
     "output_type": "execute_result"
    }
   ],
   "source": [
    "assets_traits[rarity_list]"
   ]
  },
  {
   "cell_type": "code",
   "execution_count": 124,
   "metadata": {},
   "outputs": [
    {
     "data": {
      "text/plain": [
       "['Background_rarity',\n",
       " 'Cloths_rarity',\n",
       " 'EyesWear_rarity',\n",
       " 'HeadWear_rarity',\n",
       " 'Mouth_rarity',\n",
       " 'Skin_rarity',\n",
       " 'Background_rarity_rarity',\n",
       " 'Cloths_rarity_rarity',\n",
       " 'EyesWear_rarity_rarity',\n",
       " 'HeadWear_rarity_rarity',\n",
       " 'Mouth_rarity_rarity',\n",
       " 'Skin_rarity_rarity',\n",
       " 'Background_rarity_rarity',\n",
       " 'Cloths_rarity_rarity',\n",
       " 'EyesWear_rarity_rarity',\n",
       " 'HeadWear_rarity_rarity',\n",
       " 'Mouth_rarity_rarity',\n",
       " 'Skin_rarity_rarity']"
      ]
     },
     "execution_count": 124,
     "metadata": {},
     "output_type": "execute_result"
    }
   ],
   "source": [
    "rarity_list"
   ]
  },
  {
   "cell_type": "code",
   "execution_count": null,
   "metadata": {},
   "outputs": [],
   "source": []
  }
 ],
 "metadata": {
  "interpreter": {
   "hash": "631af46dfe2aa06b02954c5167e64b1b30970221264e4bda1b15943a0af226c8"
  },
  "kernelspec": {
   "display_name": "Python 3.9.7 ('base')",
   "language": "python",
   "name": "python3"
  },
  "language_info": {
   "codemirror_mode": {
    "name": "ipython",
    "version": 3
   },
   "file_extension": ".py",
   "mimetype": "text/x-python",
   "name": "python",
   "nbconvert_exporter": "python",
   "pygments_lexer": "ipython3",
   "version": "3.9.7"
  },
  "orig_nbformat": 4
 },
 "nbformat": 4,
 "nbformat_minor": 2
}
