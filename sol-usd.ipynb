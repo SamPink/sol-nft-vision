{
 "cells": [
  {
   "cell_type": "code",
   "execution_count": 1,
   "metadata": {},
   "outputs": [
    {
     "name": "stdout",
     "output_type": "stream",
     "text": [
      "Requirement already satisfied: Historic_Crypto in /Users/sampink/opt/anaconda3/lib/python3.9/site-packages (0.1.6)\n",
      "Requirement already satisfied: numpy in /Users/sampink/opt/anaconda3/lib/python3.9/site-packages (from Historic_Crypto) (1.22.0)\n",
      "Requirement already satisfied: requests in /Users/sampink/opt/anaconda3/lib/python3.9/site-packages (from Historic_Crypto) (2.27.1)\n",
      "Requirement already satisfied: certifi>=2017.4.17 in /Users/sampink/opt/anaconda3/lib/python3.9/site-packages (from requests->Historic_Crypto) (2021.10.8)\n",
      "Requirement already satisfied: urllib3<1.27,>=1.21.1 in /Users/sampink/opt/anaconda3/lib/python3.9/site-packages (from requests->Historic_Crypto) (1.26.8)\n",
      "Requirement already satisfied: idna<4,>=2.5 in /Users/sampink/opt/anaconda3/lib/python3.9/site-packages (from requests->Historic_Crypto) (3.3)\n",
      "Requirement already satisfied: charset-normalizer~=2.0.0 in /Users/sampink/opt/anaconda3/lib/python3.9/site-packages (from requests->Historic_Crypto) (2.0.10)\n"
     ]
    }
   ],
   "source": [
    "!pip install Historic_Crypto"
   ]
  },
  {
   "cell_type": "code",
   "execution_count": 2,
   "metadata": {},
   "outputs": [],
   "source": [
    "import pandas as pd\n",
    "from Historic_Crypto import HistoricalData\n",
    "import datetime as dt"
   ]
  },
  {
   "cell_type": "code",
   "execution_count": 3,
   "metadata": {},
   "outputs": [],
   "source": [
    "#get sol to usd price for a given date\n",
    "def get_sol_to_usd_price(date):\n",
    "    #get historic data for sol to usd\n",
    "    historic_data = HistoricalData('SOL-USD',300,'2020-06-01-00-00')\n",
    "    #return the price\n",
    "    return historic_data.get_price()"
   ]
  },
  {
   "cell_type": "code",
   "execution_count": 4,
   "metadata": {},
   "outputs": [],
   "source": [
    "#get the date 6 months ago from the current date\n",
    "#get the current date\n",
    "today = dt.datetime.now()\n",
    "#get the date 6 months ago\n",
    "date_6_months_ago = today - dt.timedelta(days=180)\n",
    "\n",
    "#convert the date to a string\n",
    "date_6_months_ago_str = date_6_months_ago.strftime(\"%Y-%m-%d-%H-%M\")"
   ]
  },
  {
   "cell_type": "code",
   "execution_count": 5,
   "metadata": {},
   "outputs": [
    {
     "name": "stdout",
     "output_type": "stream",
     "text": [
      "Checking input parameters are in the correct format.\n",
      "Formatting Dates.\n",
      "Checking if user supplied is available on the CoinBase Pro API.\n",
      "Connected to the CoinBase Pro API.\n",
      "Ticker 'SOL-USD' found at the CoinBase Pro API, continuing to extraction.\n",
      "Provisional Start: 2022-01-05T15:37:00\n",
      "Provisional End: 2022-01-18T03:37:00\n",
      "Data for chunk 1 of 15 extracted\n",
      "Provisional Start: 2022-01-18T03:37:00\n",
      "Provisional End: 2022-01-30T15:37:00\n",
      "Data for chunk 2 of 15 extracted\n",
      "Provisional Start: 2022-01-30T15:37:00\n",
      "Provisional End: 2022-02-12T03:37:00\n",
      "Data for chunk 3 of 15 extracted\n",
      "Provisional Start: 2022-02-12T03:37:00\n",
      "Provisional End: 2022-02-24T15:37:00\n",
      "Data for chunk 4 of 15 extracted\n",
      "Provisional Start: 2022-02-24T15:37:00\n",
      "Provisional End: 2022-03-09T03:37:00\n",
      "Data for chunk 5 of 15 extracted\n",
      "Provisional Start: 2022-03-09T03:37:00\n",
      "Provisional End: 2022-03-21T15:37:00\n",
      "Data for chunk 6 of 15 extracted\n",
      "Provisional Start: 2022-03-21T15:37:00\n",
      "Provisional End: 2022-04-03T03:37:00\n",
      "Data for chunk 7 of 15 extracted\n",
      "Provisional Start: 2022-04-03T03:37:00\n",
      "Provisional End: 2022-04-15T15:37:00\n",
      "Data for chunk 8 of 15 extracted\n",
      "Provisional Start: 2022-04-15T15:37:00\n",
      "Provisional End: 2022-04-28T03:37:00\n",
      "Data for chunk 9 of 15 extracted\n",
      "Provisional Start: 2022-04-28T03:37:00\n",
      "Provisional End: 2022-05-10T15:37:00\n",
      "Data for chunk 10 of 15 extracted\n",
      "Provisional Start: 2022-05-10T15:37:00\n",
      "Provisional End: 2022-05-23T03:37:00\n",
      "Data for chunk 11 of 15 extracted\n",
      "Provisional Start: 2022-05-23T03:37:00\n",
      "Provisional End: 2022-06-04T15:37:00\n",
      "Data for chunk 12 of 15 extracted\n",
      "Provisional Start: 2022-06-04T15:37:00\n",
      "Provisional End: 2022-06-17T03:37:00\n",
      "Data for chunk 13 of 15 extracted\n",
      "Provisional Start: 2022-06-17T03:37:00\n",
      "Provisional End: 2022-06-29T15:37:00\n",
      "Data for chunk 14 of 15 extracted\n",
      "Provisional Start: 2022-06-29T15:37:00\n",
      "Provisional End: 2022-07-12T03:37:00\n",
      "Data for chunk 15 of 15 extracted\n"
     ]
    }
   ],
   "source": [
    "data = HistoricalData('SOL-USD',3600,date_6_months_ago_str).retrieve_data()"
   ]
  },
  {
   "cell_type": "code",
   "execution_count": 6,
   "metadata": {},
   "outputs": [],
   "source": [
    "data.to_csv('data/sol_to_usd_data.csv')"
   ]
  },
  {
   "cell_type": "code",
   "execution_count": null,
   "metadata": {},
   "outputs": [],
   "source": []
  }
 ],
 "metadata": {
  "interpreter": {
   "hash": "631af46dfe2aa06b02954c5167e64b1b30970221264e4bda1b15943a0af226c8"
  },
  "kernelspec": {
   "display_name": "Python 3.9.7 ('base')",
   "language": "python",
   "name": "python3"
  },
  "language_info": {
   "codemirror_mode": {
    "name": "ipython",
    "version": 3
   },
   "file_extension": ".py",
   "mimetype": "text/x-python",
   "name": "python",
   "nbconvert_exporter": "python",
   "pygments_lexer": "ipython3",
   "version": "3.9.7"
  },
  "orig_nbformat": 4
 },
 "nbformat": 4,
 "nbformat_minor": 2
}
