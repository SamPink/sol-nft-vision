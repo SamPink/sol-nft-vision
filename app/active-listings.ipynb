{
 "cells": [
  {
   "cell_type": "code",
   "execution_count": 8,
   "metadata": {},
   "outputs": [],
   "source": [
    "import requests\n",
    "import pandas as pd\n",
    "import time "
   ]
  },
  {
   "cell_type": "code",
   "execution_count": 9,
   "metadata": {},
   "outputs": [],
   "source": [
    "LIMIT = 20\n",
    "offset = 0\n",
    "\n",
    "search = True\n",
    "all_listings = pd.DataFrame()\n",
    "while search:\n",
    "    try:\n",
    "        resp = requests.get(f\"https://api-mainnet.magiceden.dev/v2/collections/okay_bears/listings?offset={offset}&limit={LIMIT}\")\n",
    "\n",
    "        df = pd.json_normalize(resp.json())\n",
    "        \n",
    "        if df.empty:\n",
    "            search = False\n",
    "        else:\n",
    "            all_listings = all_listings.append(df)\n",
    "\n",
    "            offset += LIMIT\n",
    "\n",
    "            time.sleep(1)\n",
    "    except Exception as e:\n",
    "        print(e)\n",
    "        search = False"
   ]
  },
  {
   "cell_type": "code",
   "execution_count": null,
   "metadata": {},
   "outputs": [],
   "source": []
  },
  {
   "cell_type": "code",
   "execution_count": null,
   "metadata": {},
   "outputs": [],
   "source": []
  },
  {
   "cell_type": "code",
   "execution_count": null,
   "metadata": {},
   "outputs": [],
   "source": []
  }
 ],
 "metadata": {
  "kernelspec": {
   "display_name": "Python 3.9.13 64-bit",
   "language": "python",
   "name": "python3"
  },
  "language_info": {
   "codemirror_mode": {
    "name": "ipython",
    "version": 3
   },
   "file_extension": ".py",
   "mimetype": "text/x-python",
   "name": "python",
   "nbconvert_exporter": "python",
   "pygments_lexer": "ipython3",
   "version": "3.9.13"
  },
  "orig_nbformat": 4,
  "vscode": {
   "interpreter": {
    "hash": "b0fa6594d8f4cbf19f97940f81e996739fb7646882a419484c72d19e05852a7e"
   }
  }
 },
 "nbformat": 4,
 "nbformat_minor": 2
}
