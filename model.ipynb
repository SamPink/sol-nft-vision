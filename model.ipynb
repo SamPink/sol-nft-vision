{
 "cells": [
  {
   "cell_type": "code",
   "execution_count": 13,
   "metadata": {},
   "outputs": [],
   "source": [
    "import pandas as pd\n"
   ]
  },
  {
   "cell_type": "code",
   "execution_count": 14,
   "metadata": {},
   "outputs": [],
   "source": [
    "#defince a constant for the sol base unit of 1000000000\n",
    "SOL_BASE = 1000000000"
   ]
  },
  {
   "cell_type": "code",
   "execution_count": 15,
   "metadata": {},
   "outputs": [],
   "source": [
    "bare_rarity = pd.read_csv('okay_bears_rarity.csv')"
   ]
  },
  {
   "cell_type": "code",
   "execution_count": 16,
   "metadata": {},
   "outputs": [],
   "source": [
    "sales = pd.read_csv('transactions.csv')"
   ]
  },
  {
   "cell_type": "code",
   "execution_count": 17,
   "metadata": {},
   "outputs": [],
   "source": [
    "#convert trade time to datetime from epoch\n",
    "sales['tradeTime'] = pd.to_datetime(sales['tradeTime'], unit='s')"
   ]
  },
  {
   "cell_type": "code",
   "execution_count": 18,
   "metadata": {},
   "outputs": [],
   "source": [
    "#divide price by SOL_BASE to get price in SOL\n",
    "sales['price'] = sales['price'] / SOL_BASE"
   ]
  },
  {
   "cell_type": "code",
   "execution_count": 19,
   "metadata": {},
   "outputs": [
    {
     "data": {
      "text/html": [
       "<div>\n",
       "<style scoped>\n",
       "    .dataframe tbody tr th:only-of-type {\n",
       "        vertical-align: middle;\n",
       "    }\n",
       "\n",
       "    .dataframe tbody tr th {\n",
       "        vertical-align: top;\n",
       "    }\n",
       "\n",
       "    .dataframe thead th {\n",
       "        text-align: right;\n",
       "    }\n",
       "</style>\n",
       "<table border=\"1\" class=\"dataframe\">\n",
       "  <thead>\n",
       "    <tr style=\"text-align: right;\">\n",
       "      <th></th>\n",
       "      <th>Unnamed: 0</th>\n",
       "      <th>tradeCount</th>\n",
       "      <th>tradeTime</th>\n",
       "      <th>price</th>\n",
       "      <th>dex</th>\n",
       "      <th>signature</th>\n",
       "    </tr>\n",
       "  </thead>\n",
       "  <tbody>\n",
       "    <tr>\n",
       "      <th>0</th>\n",
       "      <td>0</td>\n",
       "      <td>2.0</td>\n",
       "      <td>2022-04-28 10:12:39</td>\n",
       "      <td>64.9999</td>\n",
       "      <td>magiceden</td>\n",
       "      <td>55mnGHHCG1zKYUBqW6d3z8D5RKi7wZEA7ksT1LocKTp6Sg...</td>\n",
       "    </tr>\n",
       "    <tr>\n",
       "      <th>1</th>\n",
       "      <td>1</td>\n",
       "      <td>4.0</td>\n",
       "      <td>2022-04-28 03:32:02</td>\n",
       "      <td>110.0000</td>\n",
       "      <td>magiceden</td>\n",
       "      <td>JayNLh3WCbdqXfyuYUtWiEsgo6KmsT6SdGSvbdF2x8kqM6...</td>\n",
       "    </tr>\n",
       "    <tr>\n",
       "      <th>2</th>\n",
       "      <td>2</td>\n",
       "      <td>1.0</td>\n",
       "      <td>2022-04-27 02:37:46</td>\n",
       "      <td>40.6900</td>\n",
       "      <td>magiceden</td>\n",
       "      <td>2aJvuPkBALGWFiY9wHUHoFcTen4VGARpUgj83q7VaPxfNF...</td>\n",
       "    </tr>\n",
       "    <tr>\n",
       "      <th>3</th>\n",
       "      <td>3</td>\n",
       "      <td>7.0</td>\n",
       "      <td>2022-05-02 00:05:41</td>\n",
       "      <td>90.0000</td>\n",
       "      <td>magiceden</td>\n",
       "      <td>3Wsz379AZ6eyCC1crSMSVyUXWE5tTjTvwRY5Zpxn2UFmNa...</td>\n",
       "    </tr>\n",
       "    <tr>\n",
       "      <th>4</th>\n",
       "      <td>4</td>\n",
       "      <td>1.0</td>\n",
       "      <td>2022-04-26 20:49:30</td>\n",
       "      <td>10.9900</td>\n",
       "      <td>magiceden</td>\n",
       "      <td>4cSNt1g24CaFeGemPwcpQrn3nKNtPf8ZSWxY8ULSCHepNK...</td>\n",
       "    </tr>\n",
       "    <tr>\n",
       "      <th>...</th>\n",
       "      <td>...</td>\n",
       "      <td>...</td>\n",
       "      <td>...</td>\n",
       "      <td>...</td>\n",
       "      <td>...</td>\n",
       "      <td>...</td>\n",
       "    </tr>\n",
       "    <tr>\n",
       "      <th>4945</th>\n",
       "      <td>4945</td>\n",
       "      <td>4.0</td>\n",
       "      <td>2022-05-17 14:55:50</td>\n",
       "      <td>230.0000</td>\n",
       "      <td>magiceden</td>\n",
       "      <td>2yfttVJYVxa5ndgPB4XRurWpPNqY5rAeZgR14TrY9rv2pQ...</td>\n",
       "    </tr>\n",
       "    <tr>\n",
       "      <th>4946</th>\n",
       "      <td>4946</td>\n",
       "      <td>2.0</td>\n",
       "      <td>2022-05-31 08:03:33</td>\n",
       "      <td>152.6900</td>\n",
       "      <td>magiceden</td>\n",
       "      <td>N3QQeBNWmqh5mLNh3Sn425ecdn4twhnEMiTf9NibAoC3yg...</td>\n",
       "    </tr>\n",
       "    <tr>\n",
       "      <th>4947</th>\n",
       "      <td>4947</td>\n",
       "      <td>1.0</td>\n",
       "      <td>2022-05-04 04:40:31</td>\n",
       "      <td>85.0000</td>\n",
       "      <td>magiceden</td>\n",
       "      <td>5Kn15znuwmvpWRvX9Sr2HeRBJdsaGYC3wpWyzcJF59Z2uy...</td>\n",
       "    </tr>\n",
       "    <tr>\n",
       "      <th>4948</th>\n",
       "      <td>4948</td>\n",
       "      <td>4.0</td>\n",
       "      <td>2022-05-18 13:14:04</td>\n",
       "      <td>250.0000</td>\n",
       "      <td>magiceden</td>\n",
       "      <td>32UTLsJUX4CVerbUS4BDbXtuxQL6swzKAJ6kCT8A2hMbaM...</td>\n",
       "    </tr>\n",
       "    <tr>\n",
       "      <th>4949</th>\n",
       "      <td>4949</td>\n",
       "      <td>4.0</td>\n",
       "      <td>2022-05-22 10:51:55</td>\n",
       "      <td>220.0000</td>\n",
       "      <td>magiceden</td>\n",
       "      <td>3bpBSGXqsjAt32RZdtNDCFNTm7q2bJYpUsA7j3SG7AQVQy...</td>\n",
       "    </tr>\n",
       "  </tbody>\n",
       "</table>\n",
       "<p>4950 rows × 6 columns</p>\n",
       "</div>"
      ],
      "text/plain": [
       "      Unnamed: 0  tradeCount           tradeTime     price        dex  \\\n",
       "0              0         2.0 2022-04-28 10:12:39   64.9999  magiceden   \n",
       "1              1         4.0 2022-04-28 03:32:02  110.0000  magiceden   \n",
       "2              2         1.0 2022-04-27 02:37:46   40.6900  magiceden   \n",
       "3              3         7.0 2022-05-02 00:05:41   90.0000  magiceden   \n",
       "4              4         1.0 2022-04-26 20:49:30   10.9900  magiceden   \n",
       "...          ...         ...                 ...       ...        ...   \n",
       "4945        4945         4.0 2022-05-17 14:55:50  230.0000  magiceden   \n",
       "4946        4946         2.0 2022-05-31 08:03:33  152.6900  magiceden   \n",
       "4947        4947         1.0 2022-05-04 04:40:31   85.0000  magiceden   \n",
       "4948        4948         4.0 2022-05-18 13:14:04  250.0000  magiceden   \n",
       "4949        4949         4.0 2022-05-22 10:51:55  220.0000  magiceden   \n",
       "\n",
       "                                              signature  \n",
       "0     55mnGHHCG1zKYUBqW6d3z8D5RKi7wZEA7ksT1LocKTp6Sg...  \n",
       "1     JayNLh3WCbdqXfyuYUtWiEsgo6KmsT6SdGSvbdF2x8kqM6...  \n",
       "2     2aJvuPkBALGWFiY9wHUHoFcTen4VGARpUgj83q7VaPxfNF...  \n",
       "3     3Wsz379AZ6eyCC1crSMSVyUXWE5tTjTvwRY5Zpxn2UFmNa...  \n",
       "4     4cSNt1g24CaFeGemPwcpQrn3nKNtPf8ZSWxY8ULSCHepNK...  \n",
       "...                                                 ...  \n",
       "4945  2yfttVJYVxa5ndgPB4XRurWpPNqY5rAeZgR14TrY9rv2pQ...  \n",
       "4946  N3QQeBNWmqh5mLNh3Sn425ecdn4twhnEMiTf9NibAoC3yg...  \n",
       "4947  5Kn15znuwmvpWRvX9Sr2HeRBJdsaGYC3wpWyzcJF59Z2uy...  \n",
       "4948  32UTLsJUX4CVerbUS4BDbXtuxQL6swzKAJ6kCT8A2hMbaM...  \n",
       "4949  3bpBSGXqsjAt32RZdtNDCFNTm7q2bJYpUsA7j3SG7AQVQy...  \n",
       "\n",
       "[4950 rows x 6 columns]"
      ]
     },
     "execution_count": 19,
     "metadata": {},
     "output_type": "execute_result"
    }
   ],
   "source": [
    "sales"
   ]
  },
  {
   "cell_type": "code",
   "execution_count": null,
   "metadata": {},
   "outputs": [],
   "source": []
  }
 ],
 "metadata": {
  "interpreter": {
   "hash": "631af46dfe2aa06b02954c5167e64b1b30970221264e4bda1b15943a0af226c8"
  },
  "kernelspec": {
   "display_name": "Python 3.9.7 ('base')",
   "language": "python",
   "name": "python3"
  },
  "language_info": {
   "codemirror_mode": {
    "name": "ipython",
    "version": 3
   },
   "file_extension": ".py",
   "mimetype": "text/x-python",
   "name": "python",
   "nbconvert_exporter": "python",
   "pygments_lexer": "ipython3",
   "version": "3.9.7"
  },
  "orig_nbformat": 4
 },
 "nbformat": 4,
 "nbformat_minor": 2
}
