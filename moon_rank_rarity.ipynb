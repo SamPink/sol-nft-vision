{
 "cells": [
  {
   "cell_type": "code",
   "execution_count": 27,
   "metadata": {},
   "outputs": [],
   "source": [
    "import requests\n",
    "import pandas as pd\n",
    "import numpy as np"
   ]
  },
  {
   "cell_type": "code",
   "execution_count": 55,
   "metadata": {},
   "outputs": [],
   "source": [
    "slug = 'okay_bears'\n",
    "size =10000\n"
   ]
  },
  {
   "cell_type": "code",
   "execution_count": 60,
   "metadata": {},
   "outputs": [],
   "source": [
    "def get_traits_rarity(collection_slug = slug, collection_size= size, write_filepath=False):\n",
    "    url = f'https://moonrank.app/mints/{collection_slug}?after=0&seen={collection_size}&complete=true'\n",
    "    response = requests.request(\"GET\", url).json()\n",
    "    data = response['mints']\n",
    "\n",
    "\n",
    "    df = pd.DataFrame.from_records(data)[['name','rank','rarity']]\n",
    "    df = df.rename(columns={'rank':'rarity_rank','rarity':'overall_rarity'})\n",
    "    df.head()\n",
    "\n",
    "    df_traits = pd.json_normalize(data, 'rank_explain',meta='name').drop_duplicates()\n",
    "\n",
    "    trait_list = df_traits.attribute.unique()\n",
    "\n",
    "    traits_pivot =df_traits.pivot(index='name', columns=\"attribute\", values=['value','value_perc']).reset_index()\n",
    "    new_colnames = []\n",
    "    for lvl_1, lvl_2 in traits_pivot.columns:\n",
    "        if lvl_1 == 'value_perc':\n",
    "            new_colnames.append(f\"{lvl_2}_rarity\")\n",
    "        elif lvl_1 == 'name':\n",
    "            new_colnames.append('name')\n",
    "        else:\n",
    "            new_colnames.append(lvl_2)\n",
    "\n",
    "    traits_pivot.columns = new_colnames\n",
    "\n",
    "    #merge with the total rank\n",
    "    traits_pivot = traits_pivot.merge(df, on='name',how='outer')\n",
    "\n",
    "    #store empty string as NaN\n",
    "    traits_pivot = traits_pivot.replace(r'^\\s*$', np.nan, regex=True)\n",
    "    rarity_cols = [x + '_rarity' for x in trait_list]\n",
    "\n",
    "    traits_pivot['min_rarity'] = traits_pivot[rarity_cols].min(axis=1)\n",
    "    traits_pivot['mean_rarity'] = traits_pivot[rarity_cols].mean(axis=1)\n",
    "    traits_pivot['trait_n'] = traits_pivot[trait_list].count(axis=1)\n",
    "    traits_pivot = traits_pivot.sort_values('rarity_rank',ascending=True).reset_index(drop=True)\n",
    "\n",
    "    if write_filepath != False:\n",
    "        traits_pivot.to_csv(write_filepath)\n",
    "    \n",
    "    return traits_pivot\n",
    "\n",
    "\n",
    "\n"
   ]
  },
  {
   "cell_type": "code",
   "execution_count": 61,
   "metadata": {},
   "outputs": [],
   "source": [
    "okay_bears = get_traits_rarity(collection_slug='okay_bears',collection_size=10000, write_filepath='data/okay_bear/OkayBears_traits.csv')"
   ]
  },
  {
   "cell_type": "code",
   "execution_count": 62,
   "metadata": {},
   "outputs": [],
   "source": [
    "de_gods = get_traits_rarity(collection_slug='degods',collection_size=10000, write_filepath='data/de_gods/de_gods_traits.csv')"
   ]
  }
 ],
 "metadata": {
  "kernelspec": {
   "display_name": "Python 3.6.10 ('base')",
   "language": "python",
   "name": "python3"
  },
  "language_info": {
   "codemirror_mode": {
    "name": "ipython",
    "version": 3
   },
   "file_extension": ".py",
   "mimetype": "text/x-python",
   "name": "python",
   "nbconvert_exporter": "python",
   "pygments_lexer": "ipython3",
   "version": "3.6.10"
  },
  "orig_nbformat": 4,
  "vscode": {
   "interpreter": {
    "hash": "eb069fb33bcadbe335fc53a2831cd5738687ac76cac1d867e4dc4cbf8290b325"
   }
  }
 },
 "nbformat": 4,
 "nbformat_minor": 2
}
